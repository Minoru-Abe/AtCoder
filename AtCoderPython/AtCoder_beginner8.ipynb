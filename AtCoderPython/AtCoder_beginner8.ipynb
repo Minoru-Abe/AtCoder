{
 "cells": [
  {
   "cell_type": "code",
   "execution_count": 5,
   "metadata": {},
   "outputs": [
    {
     "name": "stdout",
     "output_type": "stream",
     "text": [
      "4\n"
     ]
    }
   ],
   "source": [
    "N = int(input())\n",
    "\n",
    "num_list = []\n",
    "\n",
    "for i in range(N):\n",
    "    num_list.append(int(input()))\n",
    "\n",
    "num_list.sort()\n",
    "\n",
    "total_mochi = 0\n",
    "current_mochi_radius = 0\n",
    "\n",
    "for num in num_list:\n",
    "    if current_mochi_radius < num:\n",
    "        total_mochi = total_mochi + 1\n",
    "        current_mochi_radius = num\n",
    "\n",
    "\n",
    "print(total_mochi)"
   ]
  }
 ],
 "metadata": {
  "kernelspec": {
   "display_name": "base",
   "language": "python",
   "name": "python3"
  },
  "language_info": {
   "codemirror_mode": {
    "name": "ipython",
    "version": 3
   },
   "file_extension": ".py",
   "mimetype": "text/x-python",
   "name": "python",
   "nbconvert_exporter": "python",
   "pygments_lexer": "ipython3",
   "version": "3.12.8"
  }
 },
 "nbformat": 4,
 "nbformat_minor": 2
}
