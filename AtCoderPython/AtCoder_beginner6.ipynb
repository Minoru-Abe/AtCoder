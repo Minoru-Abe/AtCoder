{
 "cells": [
  {
   "cell_type": "code",
   "execution_count": 18,
   "metadata": {},
   "outputs": [
    {
     "name": "stdout",
     "output_type": "stream",
     "text": [
      "20 2 5\n",
      "num:1\n",
      "1\n",
      "num:2\n",
      "2\n",
      "num:3\n",
      "3\n",
      "num:4\n",
      "4\n",
      "num:5\n",
      "5\n",
      "num:6\n",
      "6\n",
      "num:7\n",
      "7\n",
      "num:8\n",
      "8\n",
      "num:9\n",
      "9\n",
      "num:10\n",
      "1\n",
      "num:11\n",
      "2\n",
      "num:12\n",
      "3\n",
      "num:13\n",
      "4\n",
      "num:14\n",
      "5\n",
      "num:15\n",
      "6\n",
      "num:16\n",
      "7\n",
      "num:17\n",
      "8\n",
      "num:18\n",
      "9\n",
      "num:19\n",
      "10\n",
      "num:20\n",
      "2\n"
     ]
    }
   ],
   "source": [
    "N, A, B = map(int, input().split())\n",
    "\n",
    "total_count = 0\n",
    "\n",
    "for num in range(1, N+1):\n",
    "    total_digit = 0\n",
    "    print(\"num:{}\".format(num))\n",
    "    for digit in str(num):\n",
    "        total_digit = total_digit + int(digit)\n",
    "    if total_digit >= A & total_digit <= B:\n",
    "        print(total_digit)\n"
   ]
  }
 ],
 "metadata": {
  "kernelspec": {
   "display_name": "base",
   "language": "python",
   "name": "python3"
  },
  "language_info": {
   "codemirror_mode": {
    "name": "ipython",
    "version": 3
   },
   "file_extension": ".py",
   "mimetype": "text/x-python",
   "name": "python",
   "nbconvert_exporter": "python",
   "pygments_lexer": "ipython3",
   "version": "3.12.8"
  }
 },
 "nbformat": 4,
 "nbformat_minor": 2
}
