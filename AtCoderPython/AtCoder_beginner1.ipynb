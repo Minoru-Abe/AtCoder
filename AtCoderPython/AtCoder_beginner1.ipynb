{
 "cells": [
  {
   "cell_type": "code",
   "execution_count": 1,
   "metadata": {},
   "outputs": [
    {
     "name": "stdout",
     "output_type": "stream",
     "text": [
      "6   test\n"
     ]
    }
   ],
   "source": [
    "a = int(input())\n",
    "\n",
    "b, c = map(int, input().split())\n",
    "\n",
    "s = input()\n",
    "\n",
    "print(a+b+c, ' ', s)\n"
   ]
  },
  {
   "cell_type": "code",
   "execution_count": 6,
   "metadata": {},
   "outputs": [
    {
     "name": "stdout",
     "output_type": "stream",
     "text": [
      "6 test\n"
     ]
    }
   ],
   "source": [
    "a = int(input())\n",
    "\n",
    "b, c = map(int, input().split())\n",
    "\n",
    "s = input()\n",
    "\n",
    "print(\"{} {}\".format(a+b+c, s))"
   ]
  },
  {
   "cell_type": "code",
   "execution_count": 7,
   "metadata": {},
   "outputs": [
    {
     "name": "stdout",
     "output_type": "stream",
     "text": [
      "6 test\n"
     ]
    }
   ],
   "source": [
    "a = int(input())\n",
    "\n",
    "b,c = map(int, input().split())\n",
    "\n",
    "s = input()\n",
    "\n",
    "print(\"{} {}\".format(a+b+c, s))"
   ]
  }
 ],
 "metadata": {
  "kernelspec": {
   "display_name": "pytorchGPU2",
   "language": "python",
   "name": "python3"
  },
  "language_info": {
   "codemirror_mode": {
    "name": "ipython",
    "version": 3
   },
   "file_extension": ".py",
   "mimetype": "text/x-python",
   "name": "python",
   "nbconvert_exporter": "python",
   "pygments_lexer": "ipython3",
   "version": "3.9.7"
  }
 },
 "nbformat": 4,
 "nbformat_minor": 2
}
