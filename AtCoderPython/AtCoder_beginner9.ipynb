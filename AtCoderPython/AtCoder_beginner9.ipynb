{
 "cells": [
  {
   "cell_type": "code",
   "execution_count": 3,
   "metadata": {},
   "outputs": [
    {
     "name": "stdout",
     "output_type": "stream",
     "text": [
      "123 0 4\n"
     ]
    }
   ],
   "source": [
    "N, Y = map(int, input().split())\n",
    "\n",
    "possible_10000 = -1\n",
    "possible_5000 = -1\n",
    "possible_1000 = -1\n",
    "\n",
    "for num_10000 in range(N+1):\n",
    "    for num_5000 in range(N-num_10000+1):\n",
    "        for num_1000 in range(N-num_10000-num_5000+1):\n",
    "            result = 10000*num_10000 + 5000*num_5000 + 1000*num_1000\n",
    "            if result == Y:\n",
    "                possible_10000 = num_10000\n",
    "                possible_5000 = num_5000\n",
    "                possible_1000 = num_1000\n",
    "                break\n",
    "\n",
    "print(possible_10000, possible_5000, possible_1000)\n",
    "\n"
   ]
  },
  {
   "cell_type": "code",
   "execution_count": 4,
   "metadata": {},
   "outputs": [
    {
     "name": "stdout",
     "output_type": "stream",
     "text": [
      "10 0 1\n"
     ]
    }
   ],
   "source": [
    "import sys\n",
    "\n",
    "N, Y = map(int, input().split())\n",
    "\n",
    "possible_10000 = -1\n",
    "possible_5000 = -1\n",
    "possible_1000 = -1\n",
    "\n",
    "if Y >= 10000:\n",
    "    quotient_10000, remainder_10000 = divmod(Y, 10000)\n",
    "    if quotient_10000 > N:\n",
    "        print(possible_10000, possible_5000, possible_1000)\n",
    "    elif quotient_10000 >= N and remainder_10000 > 0:\n",
    "        print(possible_10000, possible_5000, possible_1000)\n",
    "    else:\n",
    "        for num_5000 in range(N-quotient_10000+1):\n",
    "            for num_1000 in range(N-quotient_10000-num_5000+1):\n",
    "                total = 10000*quotient_10000 + 5000*num_5000 + 1000*num_1000\n",
    "                if total==Y:\n",
    "                    print(quotient_10000, num_5000, num_1000)\n",
    "                    break\n",
    "\n"
   ]
  },
  {
   "cell_type": "code",
   "execution_count": null,
   "metadata": {},
   "outputs": [
    {
     "name": "stdout",
     "output_type": "stream",
     "text": [
      "123 0 4\n"
     ]
    }
   ],
   "source": [
    "N, Y = map(int, input().split())\n",
    "\n",
    "possible_10000 = -1\n",
    "possible_5000 = -1\n",
    "possible_1000 = -1\n",
    "\n",
    "if Y >= 10000:\n",
    "  quotient_10000, remainder_10000 = divmod(Y, 10000)\n",
    "\n",
    "  if quotient_10000 > N:\n",
    "    print(possible_10000, possible_5000, possible_1000)\n",
    "    exit()\n",
    "  elif quotient_10000 == N and remainder_10000 > 0:\n",
    "    print(possible_10000, possible_5000, possible_1000)\n",
    "    exit()\n",
    "  else:\n",
    "    for num_5000 in range(N-quotient_10000+1):\n",
    "        for num_1000 in range(N-quotient_10000-num_5000+1):\n",
    "            total = 10000*quotient_10000 + 5000*num_5000 + 1000*num_1000\n",
    "            if total == Y:\n",
    "                possible_10000 = int(quotient_10000)\n",
    "                possible_5000 = num_5000\n",
    "                possible_1000 = num_1000\n",
    "                break\n",
    "\n",
    "print(possible_10000, possible_5000, possible_1000)"
   ]
  }
 ],
 "metadata": {
  "kernelspec": {
   "display_name": "base",
   "language": "python",
   "name": "python3"
  },
  "language_info": {
   "codemirror_mode": {
    "name": "ipython",
    "version": 3
   },
   "file_extension": ".py",
   "mimetype": "text/x-python",
   "name": "python",
   "nbconvert_exporter": "python",
   "pygments_lexer": "ipython3",
   "version": "3.12.8"
  }
 },
 "nbformat": 4,
 "nbformat_minor": 2
}
