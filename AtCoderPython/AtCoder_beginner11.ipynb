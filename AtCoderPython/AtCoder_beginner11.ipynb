{
 "cells": [
  {
   "cell_type": "code",
   "execution_count": 11,
   "metadata": {},
   "outputs": [
    {
     "name": "stdout",
     "output_type": "stream",
     "text": [
      "No\n"
     ]
    }
   ],
   "source": [
    "## 時刻、x、yを格納する配列。\n",
    "route_list = []\n",
    "\n",
    "N = int(input())\n",
    "for i in range(N):\n",
    "    route_list.append(list(map(int, input().split())))\n",
    "\n",
    "possibility = True\n",
    "\n",
    "previous_time = 0\n",
    "previous_point = 0\n",
    "\n",
    "for route in route_list:\n",
    "    ## 現在と前回の時刻差\n",
    "    time_diff = route[0] - previous_time\n",
    "    ## 前回のx+y\n",
    "\n",
    "    ## 前回のx+yにtime_diffを加えた値が、最遠点\n",
    "    max_far = previous_point + time_diff\n",
    "    ## 前回のx+yからtime_diffを引いた値、もしくは0の最大値が、最近点\n",
    "    if previous_point - time_diff > 0:\n",
    "        min_far = previous_point - time_diff\n",
    "    else:\n",
    "        min_far = 0\n",
    "    \n",
    "    ## 現時点のx+y\n",
    "    current_point = route[1] + route[2]\n",
    "\n",
    "    ## routeのx+yが、最近点以上、最遠点以下になっていることが必要\n",
    "    ## また、現在時刻が奇数なら、x+yも奇数になっている必要がある。現在時刻が偶数なら偶数である。\n",
    "    if not ((min_far <= current_point) and (current_point <= max_far) and ( current_point%2 == route[0]%2 )):\n",
    "        possibility = False\n",
    "        break\n",
    "    previous_time = route[0]\n",
    "    previous_point = current_point\n",
    "\n",
    "if possibility:\n",
    "    print(\"Yes\")\n",
    "else:\n",
    "    print(\"No\")\n",
    "\n"
   ]
  }
 ],
 "metadata": {
  "kernelspec": {
   "display_name": "base",
   "language": "python",
   "name": "python3"
  },
  "language_info": {
   "codemirror_mode": {
    "name": "ipython",
    "version": 3
   },
   "file_extension": ".py",
   "mimetype": "text/x-python",
   "name": "python",
   "nbconvert_exporter": "python",
   "pygments_lexer": "ipython3",
   "version": "3.12.8"
  }
 },
 "nbformat": 4,
 "nbformat_minor": 2
}
