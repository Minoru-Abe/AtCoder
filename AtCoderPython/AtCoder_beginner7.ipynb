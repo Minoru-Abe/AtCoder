{
 "cells": [
  {
   "cell_type": "code",
   "execution_count": 9,
   "metadata": {},
   "outputs": [
    {
     "name": "stdout",
     "output_type": "stream",
     "text": [
      "18\n"
     ]
    }
   ],
   "source": [
    "N = int(input())\n",
    "card_list = list(map(int, input().split()))\n",
    "\n",
    "card_list.sort(reverse=True)\n",
    "\n",
    "alice_total = 0\n",
    "bob_total = 0\n",
    "\n",
    "for i in range(N):\n",
    "    if i%2==0:\n",
    "        alice_total = alice_total + card_list[i]\n",
    "    else:\n",
    "        bob_total = bob_total + card_list[i]\n",
    "\n",
    "result = alice_total - bob_total\n",
    "\n",
    "print(result)\n"
   ]
  },
  {
   "cell_type": "code",
   "execution_count": null,
   "metadata": {},
   "outputs": [],
   "source": []
  }
 ],
 "metadata": {
  "kernelspec": {
   "display_name": "base",
   "language": "python",
   "name": "python3"
  },
  "language_info": {
   "codemirror_mode": {
    "name": "ipython",
    "version": 3
   },
   "file_extension": ".py",
   "mimetype": "text/x-python",
   "name": "python",
   "nbconvert_exporter": "python",
   "pygments_lexer": "ipython3",
   "version": "3.12.8"
  }
 },
 "nbformat": 4,
 "nbformat_minor": 2
}
