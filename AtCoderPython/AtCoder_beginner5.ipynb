{
 "cells": [
  {
   "cell_type": "code",
   "execution_count": 10,
   "metadata": {},
   "outputs": [
    {
     "name": "stdout",
     "output_type": "stream",
     "text": [
      "2, 0, 0\n",
      "Total combination is 13\n"
     ]
    }
   ],
   "source": [
    "a = int(input())\n",
    "\n",
    "quotient_500, remainder_500 = divmod(a, 500)\n",
    "\n",
    "quotient_100, remainder_100 = divmod(remainder_500, 100)\n",
    "\n",
    "quotient_50, remainder_50 = divmod(remainder_100, 50)\n",
    "\n",
    "\n",
    "print(\"{}, {}, {}\".format(quotient_500, quotient_100, quotient_50))\n",
    "\n",
    "total_combination = 1 + quotient_100 + 6*(1+quotient_100)*quotient_500\n",
    "\n",
    "print(\"Total combination is {}\".format(total_combination))\n"
   ]
  }
 ],
 "metadata": {
  "kernelspec": {
   "display_name": "base",
   "language": "python",
   "name": "python3"
  },
  "language_info": {
   "codemirror_mode": {
    "name": "ipython",
    "version": 3
   },
   "file_extension": ".py",
   "mimetype": "text/x-python",
   "name": "python",
   "nbconvert_exporter": "python",
   "pygments_lexer": "ipython3",
   "version": "3.12.8"
  }
 },
 "nbformat": 4,
 "nbformat_minor": 2
}
