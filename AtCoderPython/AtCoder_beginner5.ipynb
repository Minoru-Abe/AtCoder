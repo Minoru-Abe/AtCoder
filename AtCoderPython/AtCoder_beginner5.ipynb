{
 "cells": [
  {
   "cell_type": "code",
   "execution_count": 12,
   "metadata": {},
   "outputs": [
    {
     "name": "stdout",
     "output_type": "stream",
     "text": [
      "2, 0, 0\n",
      "Total combination is 13\n",
      "okay\n",
      "okay\n",
      "okay\n",
      "okay\n"
     ]
    }
   ],
   "source": [
    "a = int(input())\n",
    "b = int(input())\n",
    "c = int(input())\n",
    "\n",
    "x = int(input())\n",
    "quotient_500, remainder_500 = divmod(x, 500)\n",
    "quotient_100, remainder_100 = divmod(remainder_500, 100)\n",
    "quotient_50, remainder_50 = divmod(remainder_100, 50)\n",
    "\n",
    "\n",
    "print(\"{}, {}, {}\".format(quotient_500, quotient_100, quotient_50))\n",
    "\n",
    "total_combination = 1 + quotient_100 + 6*(1+quotient_100)*quotient_500\n",
    "\n",
    "print(\"Total combination is {}\".format(total_combination))\n",
    "\n",
    "\n",
    "result_list = {}\n",
    "result = [quotient_500, quotient_100, quotient_50]\n",
    "result_list[quotient_500,quotient_100,quotient_50] = result\n",
    "\n",
    "trial_500 = 0\n",
    "\n",
    "for trial_500 in range(quotient_500 + 1):\n",
    "    trial_100 = 0\n",
    "    for trial_100 in range(quotient_100 + 1):\n",
    "        result = [quotient_500-trial_500, quotient_100-trial_100, quotient_50+10*trial_500+2*trial_100]\n",
    "        result_list[quotient_500-trial_500, quotient_100-trial_100, quotient_50+10*trial_500+2*trial_100] = result\n",
    "        result = [quotient_500-trial_500, quotient_100+trial_500-trial_100, quotient_50+8*trial_500+2*trial_100]\n",
    "        result_list[quotient_500-trial_500, quotient_100+trial_500-trial_100, quotient_50+8*trial_500+2*trial_100] = result\n",
    "        result = [quotient_500-trial_500, quotient_100+2*trial_500-trial_100, quotient_50+6*trial_500+2*trial_100]\n",
    "        result_list[quotient_500-trial_500, quotient_100+2*trial_500-trial_100, quotient_50+6*trial_500+2*trial_100] = result\n",
    "        result = [quotient_500-trial_500, quotient_100+3*trial_500-trial_100, quotient_50+4*trial_500+2*trial_100]\n",
    "        result_list[quotient_500-trial_500, quotient_100+3*trial_500-trial_100, quotient_50+4*trial_500+2*trial_100] = result\n",
    "        result = [quotient_500-trial_500, quotient_100+4*trial_500-trial_100, quotient_50+2*trial_500+2*trial_100]\n",
    "        result_list[quotient_500-trial_500, quotient_100+4*trial_500-trial_100, quotient_50+2*trial_500+2*trial_100] = result\n",
    "        result = [quotient_500-trial_500, quotient_100+5*trial_500-trial_100, quotient_50+2*trial_100]\n",
    "        result_list[quotient_500-trial_500, quotient_100+5*trial_500-trial_100, quotient_50+2*trial_100] = result\n",
    "\n",
    "\n",
    "possible_count = 0\n",
    "\n",
    "### Check whether the combination can be done by a, b, c\n",
    "\n",
    "for key in result_list.keys():\n",
    "    if result_list[key][0] <= a & result_list[key][1] <= b & result_list[key][2] <= c:\n",
    "        print(\"okay\")\n",
    "\n"
   ]
  },
  {
   "cell_type": "code",
   "execution_count": 16,
   "metadata": {},
   "outputs": [
    {
     "name": "stdout",
     "output_type": "stream",
     "text": [
      "213\n"
     ]
    }
   ],
   "source": [
    "A = int(input())\n",
    "B = int(input())\n",
    "C = int(input())\n",
    "X = int(input())\n",
    "\n",
    "possible_combination = 0\n",
    "\n",
    "for coin_500 in range(A + 1):\n",
    "    for coin_100 in range(B + 1):\n",
    "        for coin_50 in range(C + 1):\n",
    "            total = 500*coin_500 + 100*coin_100 + 50*coin_50\n",
    "            if total == X:\n",
    "                possible_combination = possible_combination + 1\n",
    "\n",
    "print(possible_combination)\n"
   ]
  }
 ],
 "metadata": {
  "kernelspec": {
   "display_name": "base",
   "language": "python",
   "name": "python3"
  },
  "language_info": {
   "codemirror_mode": {
    "name": "ipython",
    "version": 3
   },
   "file_extension": ".py",
   "mimetype": "text/x-python",
   "name": "python",
   "nbconvert_exporter": "python",
   "pygments_lexer": "ipython3",
   "version": "3.12.8"
  }
 },
 "nbformat": 4,
 "nbformat_minor": 2
}
