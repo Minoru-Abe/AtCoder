{
 "cells": [
  {
   "cell_type": "code",
   "execution_count": 1,
   "metadata": {},
   "outputs": [
    {
     "name": "stdout",
     "output_type": "stream",
     "text": [
      "9\n"
     ]
    }
   ],
   "source": [
    "## questionA\n",
    "\n",
    "S = input()\n",
    "\n",
    "num1 = S[0]\n",
    "num2 = S[2]\n",
    "\n",
    "print(int(num1)*int(num2))"
   ]
  },
  {
   "cell_type": "code",
   "execution_count": 9,
   "metadata": {},
   "outputs": [
    {
     "name": "stdout",
     "output_type": "stream",
     "text": [
      "20\n"
     ]
    }
   ],
   "source": [
    "## questionB\n",
    "\n",
    "X = int(input())\n",
    "\n",
    "flag = False\n",
    "\n",
    "result = 1\n",
    "\n",
    "for i in range(1,X+1,1):\n",
    "    result = result * i\n",
    "    if result == X:\n",
    "        print(i)\n",
    "        break\n",
    "\n"
   ]
  },
  {
   "cell_type": "code",
   "execution_count": 19,
   "metadata": {},
   "outputs": [
    {
     "name": "stdout",
     "output_type": "stream",
     "text": [
      "5\n",
      "10\n"
     ]
    }
   ],
   "source": [
    "## questionC\n",
    "Q = int(input())\n",
    "\n",
    "sneak_que = []\n",
    "\n",
    "for i in range(Q):\n",
    "    query = list(map(int,input().split()))\n",
    "    if query[0] == 1:\n",
    "        sneak_que.append(query[1])\n",
    "    elif query[0] == 2:\n",
    "        del sneak_que[0]\n",
    "    elif query[0] == 3:\n",
    "        result = 0\n",
    "        for i in range(query[1]-1):\n",
    "            result = result + sneak_que[i]\n",
    "        print(result)\n",
    "\n",
    "\n",
    "\n"
   ]
  }
 ],
 "metadata": {
  "kernelspec": {
   "display_name": "pytorchGPU2",
   "language": "python",
   "name": "python3"
  },
  "language_info": {
   "codemirror_mode": {
    "name": "ipython",
    "version": 3
   },
   "file_extension": ".py",
   "mimetype": "text/x-python",
   "name": "python",
   "nbconvert_exporter": "python",
   "pygments_lexer": "ipython3",
   "version": "3.9.7"
  }
 },
 "nbformat": 4,
 "nbformat_minor": 2
}
