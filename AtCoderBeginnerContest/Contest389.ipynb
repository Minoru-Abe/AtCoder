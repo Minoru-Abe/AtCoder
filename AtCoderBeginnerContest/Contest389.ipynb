{
 "cells": [
  {
   "cell_type": "code",
   "execution_count": 1,
   "metadata": {},
   "outputs": [
    {
     "name": "stdout",
     "output_type": "stream",
     "text": [
      "9\n"
     ]
    }
   ],
   "source": [
    "## questionA\n",
    "\n",
    "S = input()\n",
    "\n",
    "num1 = S[0]\n",
    "num2 = S[2]\n",
    "\n",
    "print(int(num1)*int(num2))"
   ]
  },
  {
   "cell_type": "code",
   "execution_count": null,
   "metadata": {},
   "outputs": [],
   "source": [
    "## questionB\n",
    "\n",
    "X = input()\n",
    "\n",
    "flag = False\n",
    "\n",
    "i = 1\n",
    "while flag==False:\n",
    "    result = 1\n",
    "    for j in range(i, 0, -1):\n",
    "        result = result * j\n",
    "    if result == X:\n",
    "        flag==True\n",
    "        print(i)\n",
    "    else:\n",
    "        i = i + 1\n",
    "\n",
    "\n"
   ]
  }
 ],
 "metadata": {
  "kernelspec": {
   "display_name": "pytorchGPU2",
   "language": "python",
   "name": "python3"
  },
  "language_info": {
   "codemirror_mode": {
    "name": "ipython",
    "version": 3
   },
   "file_extension": ".py",
   "mimetype": "text/x-python",
   "name": "python",
   "nbconvert_exporter": "python",
   "pygments_lexer": "ipython3",
   "version": "3.9.7"
  }
 },
 "nbformat": 4,
 "nbformat_minor": 2
}
