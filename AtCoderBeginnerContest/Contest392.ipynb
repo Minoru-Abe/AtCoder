{
 "cells": [
  {
   "cell_type": "code",
   "execution_count": null,
   "metadata": {},
   "outputs": [
    {
     "name": "stdout",
     "output_type": "stream",
     "text": [
      "No\n"
     ]
    }
   ],
   "source": [
    "## questionA\n",
    "A1, A2, A3 = map(int, input().split())\n",
    "\n",
    "if A1 == A2*A3:\n",
    "    print('Yes')\n",
    "elif A2 == A1*A3:\n",
    "    print('Yes')\n",
    "elif A3 == A1*A2:\n",
    "    print('Yes')\n",
    "else:\n",
    "    print('No')\n"
   ]
  },
  {
   "cell_type": "code",
   "execution_count": 18,
   "metadata": {},
   "outputs": [
    {
     "name": "stdout",
     "output_type": "stream",
     "text": [
      "1\n",
      "2 3\n"
     ]
    }
   ],
   "source": [
    "## QuestionB\n",
    "import numpy as np\n",
    "\n",
    "N, M = map(int, input().split())\n",
    "input_list = list(map(int, input().split()))\n",
    "\n",
    "input_np_array = np.array(input_list)\n",
    "result = []\n",
    "\n",
    "print(N-M)\n",
    "for i in range(1,N+1,1):\n",
    "    if not (np.isin(i, input_np_array)):\n",
    "        result.append(i)\n",
    "\n",
    "print(' '.join(map(str, result)))\n"
   ]
  }
 ],
 "metadata": {
  "kernelspec": {
   "display_name": "AtCoder",
   "language": "python",
   "name": "python3"
  },
  "language_info": {
   "codemirror_mode": {
    "name": "ipython",
    "version": 3
   },
   "file_extension": ".py",
   "mimetype": "text/x-python",
   "name": "python",
   "nbconvert_exporter": "python",
   "pygments_lexer": "ipython3",
   "version": "3.9.2"
  }
 },
 "nbformat": 4,
 "nbformat_minor": 2
}
