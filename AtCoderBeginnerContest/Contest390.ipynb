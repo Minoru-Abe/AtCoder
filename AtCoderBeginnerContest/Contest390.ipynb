{
 "cells": [
  {
   "cell_type": "code",
   "execution_count": null,
   "metadata": {},
   "outputs": [
    {
     "name": "stdout",
     "output_type": "stream",
     "text": [
      "No\n"
     ]
    }
   ],
   "source": [
    "## Question1\n",
    "expected1 = [2,1,3,4,5]\n",
    "expected2 = [1,3,2,4,5]\n",
    "expected3 = [1,2,4,3,5]\n",
    "expected4 = [1,2,3,5,4]\n",
    "\n",
    "actual = list(map(int, input().split()))\n",
    "\n",
    "if (actual == expected1 or actual == expected2 or actual == expected3 or actual == expected4):\n",
    "    print(\"Yes\")\n",
    "else:\n",
    "    print(\"No\")\n",
    "\n"
   ]
  },
  {
   "cell_type": "code",
   "execution_count": 20,
   "metadata": {},
   "outputs": [
    {
     "name": "stdout",
     "output_type": "stream",
     "text": [
      "Yes\n"
     ]
    }
   ],
   "source": [
    "## Question2\n",
    "from decimal import Decimal, getcontext\n",
    "\n",
    "getcontext().prec = 50\n",
    "\n",
    "N = int(input())\n",
    "num_list = list(map(int, input().split()))\n",
    "\n",
    "\n",
    "num1 = Decimal(str(num_list[1]))\n",
    "num2 = Decimal(str(str(num_list[0])))\n",
    "first_ratio = num1/num2\n",
    "\n",
    "if N == 2:\n",
    "    even_ratio = True\n",
    "else:\n",
    "    even_ratio = True\n",
    "    for i in range(2, N):\n",
    "        current_ratio = Decimal(str(num_list[i])) / Decimal(str(num_list[i-1]))\n",
    "        if (first_ratio != current_ratio):\n",
    "            even_ratio = False\n",
    "            break\n",
    "\n",
    "if even_ratio:\n",
    "    print(\"Yes\")\n",
    "else:\n",
    "    print(\"No\")\n"
   ]
  },
  {
   "cell_type": "code",
   "execution_count": null,
   "metadata": {},
   "outputs": [
    {
     "name": "stdout",
     "output_type": "stream",
     "text": [
      "0 0 0 0\n",
      "Yes\n"
     ]
    }
   ],
   "source": [
    "## Question3\n",
    "\n",
    "H, W = map(int, input().split())\n",
    "\n",
    "input_list = []\n",
    "\n",
    "for i in range(H):\n",
    "    input_list.append(list(input()))\n",
    "\n",
    "## 黒塗りマークの配置場所の上端、下端、左端、右端を記録\n",
    "top_point_h = H\n",
    "bottom_point_h = 0\n",
    "left_point_w = W\n",
    "right_point_w = 0\n",
    "\n",
    "## 空白エリアがあるかどうかのフラグ\n",
    "vacant_area = False\n",
    "\n",
    "for h in range(H):\n",
    "    for w in range(W):\n",
    "        if input_list[h][w]==\"#\":\n",
    "            if top_point_h > h:\n",
    "                top_point_h = h\n",
    "            if bottom_point_h < h:\n",
    "                bottom_point_h = h\n",
    "            if left_point_w > w:\n",
    "                left_point_w = w\n",
    "            if right_point_w < w:\n",
    "                right_point_w = w\n",
    "        elif input_list[h][w]==\"?\":\n",
    "            vacant_area = True\n",
    "\n",
    "## 四角形が作れるかフラグ\n",
    "rectangle_possibility = True\n",
    "\n",
    "## top_point_h がHのまま、ということは、黒塗りが1つもないということ\n",
    "if top_point_h == H:\n",
    "    if vacant_area == True:\n",
    "        rectangle_possibility = True\n",
    "    else:\n",
    "        rectangle_possibility = False\n",
    "else:\n",
    "    for h in range(top_point_h, bottom_point_h+1):\n",
    "        for w in range(left_point_w, right_point_w+1):\n",
    "            if input_list[h][w]==\".\":\n",
    "                rectangle_possibility = False\n",
    "                break\n",
    "\n",
    "\n",
    "if rectangle_possibility:\n",
    "    print(\"Yes\")\n",
    "else:\n",
    "    print(\"No\")\n"
   ]
  },
  {
   "cell_type": "code",
   "execution_count": 4,
   "metadata": {},
   "outputs": [
    {
     "name": "stdout",
     "output_type": "stream",
     "text": [
      "executing\n",
      "executing\n",
      "executing\n",
      "executing\n",
      "executing\n",
      "executing\n",
      "[1, 2, 3, [3, 3], [2, [3, 3], 4], [1, 3, [3, 3], [2, [3, 3], 4], 4], [1, [3, 3], [2, [3, 3], 4], [1, 3, [3, 3], [2, [3, 3], 4], 4], 5], [1, [3, 3], [2, [3, 3], 4], [1, 3, [3, 3], [2, [3, 3], 4], 4], [1, [3, 3], [2, [3, 3], 4], [1, 3, [3, 3], [2, [3, 3], 4], 4], 5], 5], [1, 2, [3, 3], [2, [3, 3], 4], [1, 3, [3, 3], [2, [3, 3], 4], 4], [1, [3, 3], [2, [3, 3], 4], [1, 3, [3, 3], [2, [3, 3], 4], 4], 5], [1, [3, 3], [2, [3, 3], 4], [1, 3, [3, 3], [2, [3, 3], 4], 4], [1, [3, 3], [2, [3, 3], 4], [1, 3, [3, 3], [2, [3, 3], 4], 4], 5], 5], 6]]\n"
     ]
    }
   ],
   "source": [
    "## Question4\n",
    "\n",
    "N = int(input())\n",
    "stone_list = list(list(map(int, input().split())))\n",
    "\n",
    "for i in range(N):\n",
    "    for j in range(1, N):\n",
    "        new_stone = stone_list[i] + stone_list[j]\n",
    "        new_stone_list = [x for n, x in enumerate(stone_list) if n not in (i,j)]\n",
    "        new_stone_list.append(new_stone)\n",
    "        stone_list.append(new_stone_list)\n",
    "        print(\"executing\")\n",
    "\n",
    "print(stone_list)"
   ]
  },
  {
   "cell_type": "code",
   "execution_count": 28,
   "metadata": {},
   "outputs": [
    {
     "name": "stdout",
     "output_type": "stream",
     "text": [
      "3\n"
     ]
    }
   ],
   "source": [
    "## Question4-2 ビットマスクを使用する\n",
    "\n",
    "def generate_combinations(arr):\n",
    "    n = len(arr)\n",
    "    unique_combinations = set()\n",
    "\n",
    "    for i in range(1 << n):\n",
    "        total = 0\n",
    "        result = 0\n",
    "        for j in range(n):\n",
    "            if i & ( 1 << j ):\n",
    "                total = total + arr[j]\n",
    "            else:\n",
    "                result ^= arr[j]\n",
    "        result ^= total\n",
    "        unique_combinations.add(result)\n",
    "    return unique_combinations\n",
    "\n",
    "\n",
    "N = int(input())\n",
    "array = list(map(int, input().split()))\n",
    "print(len(generate_combinations(array)))"
   ]
  }
 ],
 "metadata": {
  "kernelspec": {
   "display_name": "base",
   "language": "python",
   "name": "python3"
  },
  "language_info": {
   "codemirror_mode": {
    "name": "ipython",
    "version": 3
   },
   "file_extension": ".py",
   "mimetype": "text/x-python",
   "name": "python",
   "nbconvert_exporter": "python",
   "pygments_lexer": "ipython3",
   "version": "3.12.8"
  }
 },
 "nbformat": 4,
 "nbformat_minor": 2
}
