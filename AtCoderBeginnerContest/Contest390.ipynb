{
 "cells": [
  {
   "cell_type": "code",
   "execution_count": null,
   "metadata": {},
   "outputs": [
    {
     "name": "stdout",
     "output_type": "stream",
     "text": [
      "No\n"
     ]
    }
   ],
   "source": [
    "## Question1\n",
    "expected1 = [2,1,3,4,5]\n",
    "expected2 = [1,3,2,4,5]\n",
    "expected3 = [1,2,4,3,5]\n",
    "expected4 = [1,2,3,5,4]\n",
    "\n",
    "actual = list(map(int, input().split()))\n",
    "\n",
    "if (actual == expected1 or actual == expected2 or actual == expected3 or actual == expected4):\n",
    "    print(\"Yes\")\n",
    "else:\n",
    "    print(\"No\")\n",
    "\n"
   ]
  },
  {
   "cell_type": "code",
   "execution_count": 20,
   "metadata": {},
   "outputs": [
    {
     "name": "stdout",
     "output_type": "stream",
     "text": [
      "Yes\n"
     ]
    }
   ],
   "source": [
    "## Question2\n",
    "from decimal import Decimal, getcontext\n",
    "\n",
    "getcontext().prec = 50\n",
    "\n",
    "N = int(input())\n",
    "num_list = list(map(int, input().split()))\n",
    "\n",
    "\n",
    "num1 = Decimal(str(num_list[1]))\n",
    "num2 = Decimal(str(str(num_list[0])))\n",
    "first_ratio = num1/num2\n",
    "\n",
    "if N == 2:\n",
    "    even_ratio = True\n",
    "else:\n",
    "    even_ratio = True\n",
    "    for i in range(2, N):\n",
    "        current_ratio = Decimal(str(num_list[i])) / Decimal(str(num_list[i-1]))\n",
    "        if (first_ratio != current_ratio):\n",
    "            even_ratio = False\n",
    "            break\n",
    "\n",
    "if even_ratio:\n",
    "    print(\"Yes\")\n",
    "else:\n",
    "    print(\"No\")\n"
   ]
  }
 ],
 "metadata": {
  "kernelspec": {
   "display_name": "base",
   "language": "python",
   "name": "python3"
  },
  "language_info": {
   "codemirror_mode": {
    "name": "ipython",
    "version": 3
   },
   "file_extension": ".py",
   "mimetype": "text/x-python",
   "name": "python",
   "nbconvert_exporter": "python",
   "pygments_lexer": "ipython3",
   "version": "3.12.8"
  }
 },
 "nbformat": 4,
 "nbformat_minor": 2
}
