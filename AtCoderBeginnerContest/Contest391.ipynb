{
 "cells": [
  {
   "cell_type": "code",
   "execution_count": 2,
   "metadata": {},
   "outputs": [
    {
     "name": "stdout",
     "output_type": "stream",
     "text": [
      "NW\n"
     ]
    }
   ],
   "source": [
    "## QuestionA\n",
    "\n",
    "direction_pairs = [[\"N\",\"S\"],[\"E\",\"W\"],[\"NE\",\"SW\"],[\"NW\",\"SE\"]]\n",
    "\n",
    "D = input()\n",
    "\n",
    "for pair in direction_pairs:\n",
    "    if D == pair[0]:\n",
    "        print(pair[1])\n",
    "        break\n",
    "    elif D == pair[1]:\n",
    "        print(pair[0])\n",
    "        break\n"
   ]
  },
  {
   "cell_type": "code",
   "execution_count": 13,
   "metadata": {},
   "outputs": [
    {
     "name": "stdout",
     "output_type": "stream",
     "text": [
      "i:0,j:4\n",
      "####\n",
      "i:0,j:3\n",
      "###\n",
      "i:0,j:2\n",
      "##\n",
      "i:0,j:1\n",
      "#\n",
      "i:1,j:4\n",
      "###\n",
      "i:1,j:3\n",
      "##\n",
      "i:1,j:2\n",
      "#\n",
      "i:2,j:4\n",
      "##\n",
      "i:2,j:3\n",
      "#\n",
      "i:3,j:4\n",
      "#\n"
     ]
    }
   ],
   "source": [
    "## QuestionB\n",
    "M_list = input()\n",
    "\n",
    "for i in range(len(M_list)):\n",
    "    for j in range(len(M_list), i, -1):\n",
    "        print(\"i:{},j:{}\".format(i,j))\n",
    "        print(M_list[i:j])"
   ]
  },
  {
   "cell_type": "code",
   "execution_count": null,
   "metadata": {},
   "outputs": [],
   "source": []
  }
 ],
 "metadata": {
  "kernelspec": {
   "display_name": "AtCoder",
   "language": "python",
   "name": "python3"
  },
  "language_info": {
   "codemirror_mode": {
    "name": "ipython",
    "version": 3
   },
   "file_extension": ".py",
   "mimetype": "text/x-python",
   "name": "python",
   "nbconvert_exporter": "python",
   "pygments_lexer": "ipython3",
   "version": "3.9.2"
  }
 },
 "nbformat": 4,
 "nbformat_minor": 2
}
