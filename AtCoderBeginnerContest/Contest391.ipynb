{
 "cells": [
  {
   "cell_type": "code",
   "execution_count": 2,
   "metadata": {},
   "outputs": [
    {
     "name": "stdout",
     "output_type": "stream",
     "text": [
      "NW\n"
     ]
    }
   ],
   "source": [
    "## QuestionA\n",
    "\n",
    "direction_pairs = [[\"N\",\"S\"],[\"E\",\"W\"],[\"NE\",\"SW\"],[\"NW\",\"SE\"]]\n",
    "\n",
    "D = input()\n",
    "\n",
    "for pair in direction_pairs:\n",
    "    if D == pair[0]:\n",
    "        print(pair[1])\n",
    "        break\n",
    "    elif D == pair[1]:\n",
    "        print(pair[0])\n",
    "        break\n"
   ]
  },
  {
   "cell_type": "code",
   "execution_count": 3,
   "metadata": {},
   "outputs": [
    {
     "name": "stdout",
     "output_type": "stream",
     "text": [
      "1 2\n"
     ]
    }
   ],
   "source": [
    "## QuestionB\n",
    "N, M = map(int, input().split())\n",
    "\n",
    "S_list = tuple(input() for _ in range(N))\n",
    "T_list = tuple(input() for _ in range(M))\n",
    "\n",
    "for i in range(N-M+1):\n",
    "    for j in range(N-M+1):\n",
    "        new_tuple = tuple(str(item)[j:j+M] for item in S_list[i:i+M])\n",
    "        if new_tuple == T_list:\n",
    "            print(i+1, j+1)\n",
    "\n"
   ]
  }
 ],
 "metadata": {
  "kernelspec": {
   "display_name": "AtCoder",
   "language": "python",
   "name": "python3"
  },
  "language_info": {
   "codemirror_mode": {
    "name": "ipython",
    "version": 3
   },
   "file_extension": ".py",
   "mimetype": "text/x-python",
   "name": "python",
   "nbconvert_exporter": "python",
   "pygments_lexer": "ipython3",
   "version": "3.9.2"
  }
 },
 "nbformat": 4,
 "nbformat_minor": 2
}
