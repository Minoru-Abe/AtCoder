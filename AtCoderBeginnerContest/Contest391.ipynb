{
 "cells": [
  {
   "cell_type": "code",
   "execution_count": 2,
   "metadata": {},
   "outputs": [
    {
     "name": "stdout",
     "output_type": "stream",
     "text": [
      "NW\n"
     ]
    }
   ],
   "source": [
    "## QuestionA\n",
    "\n",
    "direction_pairs = [[\"N\",\"S\"],[\"E\",\"W\"],[\"NE\",\"SW\"],[\"NW\",\"SE\"]]\n",
    "\n",
    "D = input()\n",
    "\n",
    "for pair in direction_pairs:\n",
    "    if D == pair[0]:\n",
    "        print(pair[1])\n",
    "        break\n",
    "    elif D == pair[1]:\n",
    "        print(pair[0])\n",
    "        break\n"
   ]
  },
  {
   "cell_type": "code",
   "execution_count": null,
   "metadata": {},
   "outputs": [
    {
     "name": "stdout",
     "output_type": "stream",
     "text": [
      "1 2\n"
     ]
    }
   ],
   "source": [
    "## QuestionB\n",
    "N, M = map(int, input().split())\n",
    "\n",
    "S_list = tuple(input() for _ in range(N))\n",
    "T_list = tuple(input() for _ in range(M))\n",
    "\n",
    "for i in range(N-M+1):\n",
    "    for j in range(N-M+1):\n",
    "        new_tuple = tuple(str(item)[j:j+M] for item in S_list[i:i+M])\n",
    "        if new_tuple == T_list:\n",
    "            print(i+1, j+1)\n"
   ]
  },
  {
   "cell_type": "code",
   "execution_count": 12,
   "metadata": {},
   "outputs": [
    {
     "name": "stdout",
     "output_type": "stream",
     "text": [
      "0\n",
      "1\n",
      "2\n",
      "1\n"
     ]
    }
   ],
   "source": [
    "## QuestionC\n",
    "\n",
    "import numpy as np\n",
    "\n",
    "N, Q = map(int, input().split())\n",
    "\n",
    "pigeon_location = np.arange(N)\n",
    "pigeon_count = np.ones(N)\n",
    "\n",
    "over_1_counts = 0\n",
    "\n",
    "for i in range(Q):\n",
    "    query_list = list(map(int, input().split()))\n",
    "    if query_list[0]==1:\n",
    "        current_location = pigeon_location[query_list[1]-1]\n",
    "        new_location = query_list[2]-1\n",
    "        pigeon_count[current_location] -= 1\n",
    "        pigeon_count[new_location] += 1\n",
    "        pigeon_location[query_list[1]-1] = query_list[2]-1\n",
    "        if pigeon_count[current_location] == 1:\n",
    "            over_1_counts -= 1\n",
    "        if pigeon_count[new_location] == 2:\n",
    "            over_1_counts += 1\n",
    "    elif query_list[0]==2:\n",
    "        print(over_1_counts)\n",
    "\n"
   ]
  }
 ],
 "metadata": {
  "kernelspec": {
   "display_name": "AtCoder",
   "language": "python",
   "name": "python3"
  },
  "language_info": {
   "codemirror_mode": {
    "name": "ipython",
    "version": 3
   },
   "file_extension": ".py",
   "mimetype": "text/x-python",
   "name": "python",
   "nbconvert_exporter": "python",
   "pygments_lexer": "ipython3",
   "version": "3.9.2"
  }
 },
 "nbformat": 4,
 "nbformat_minor": 2
}
