{
 "cells": [
  {
   "cell_type": "code",
   "execution_count": 2,
   "metadata": {},
   "outputs": [
    {
     "name": "stdout",
     "output_type": "stream",
     "text": [
      "NW\n"
     ]
    }
   ],
   "source": [
    "## QuestionA\n",
    "\n",
    "direction_pairs = [[\"N\",\"S\"],[\"E\",\"W\"],[\"NE\",\"SW\"],[\"NW\",\"SE\"]]\n",
    "\n",
    "D = input()\n",
    "\n",
    "for pair in direction_pairs:\n",
    "    if D == pair[0]:\n",
    "        print(pair[1])\n",
    "        break\n",
    "    elif D == pair[1]:\n",
    "        print(pair[0])\n",
    "        break\n"
   ]
  },
  {
   "cell_type": "code",
   "execution_count": null,
   "metadata": {},
   "outputs": [
    {
     "name": "stdout",
     "output_type": "stream",
     "text": [
      "('123', '234', '345')\n",
      "('23', '34', '45')\n",
      "('234', '345')\n",
      "('34', '45')\n"
     ]
    }
   ],
   "source": [
    "## QuestionB\n",
    "N, M = map(int, input().split())\n",
    "\n",
    "S_list = tuple(input() for _ in range(N))\n",
    "T_list = tuple(input() for _ in range(M))\n",
    "\n",
    "for i in range(N-M+1):\n",
    "    for j in range(N-M+1):\n",
    "        \n",
    "        new_tuple = tuple(str(item)[j:j+M+1] for item in S_list[i:i+M+1])\n",
    "        print(new_tuple)\n",
    "\n"
   ]
  },
  {
   "cell_type": "code",
   "execution_count": 3,
   "metadata": {},
   "outputs": [
    {
     "name": "stdout",
     "output_type": "stream",
     "text": [
      "(123, 345, 567)\n",
      "('12', '34')\n"
     ]
    }
   ],
   "source": [
    "S_list = (123,345,567)\n",
    "print(S_list)\n",
    "new_tuple = tuple(str(item)[:2] for item in S_list[:2])\n",
    "print(new_tuple)"
   ]
  },
  {
   "cell_type": "code",
   "execution_count": null,
   "metadata": {},
   "outputs": [],
   "source": []
  }
 ],
 "metadata": {
  "kernelspec": {
   "display_name": "AtCoder",
   "language": "python",
   "name": "python3"
  },
  "language_info": {
   "codemirror_mode": {
    "name": "ipython",
    "version": 3
   },
   "file_extension": ".py",
   "mimetype": "text/x-python",
   "name": "python",
   "nbconvert_exporter": "python",
   "pygments_lexer": "ipython3",
   "version": "3.9.2"
  }
 },
 "nbformat": 4,
 "nbformat_minor": 2
}
